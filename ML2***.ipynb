{
 "cells": [
  {
   "cell_type": "code",
   "execution_count": 3,
   "id": "1afcf020-0e0c-4333-a0d2-45e850cf807d",
   "metadata": {},
   "outputs": [
    {
     "name": "stdout",
     "output_type": "stream",
     "text": [
      ".. _digits_dataset:\n",
      "\n",
      "Optical recognition of handwritten digits dataset\n",
      "--------------------------------------------------\n",
      "\n",
      "**Data Set Characteristics:**\n",
      "\n",
      "    :Number of Instances: 1797\n",
      "    :Number of Attributes: 64\n",
      "    :Attribute Information: 8x8 image of integer pixels in the range 0..16.\n",
      "    :Missing Attribute Values: None\n",
      "    :Creator: E. Alpaydin (alpaydin '@' boun.edu.tr)\n",
      "    :Date: July; 1998\n",
      "\n",
      "This is a copy of the test set of the UCI ML hand-written digits datasets\n",
      "https://archive.ics.uci.edu/ml/datasets/Optical+Recognition+of+Handwritten+Digits\n",
      "\n",
      "The data set contains images of hand-written digits: 10 classes where\n",
      "each class refers to a digit.\n",
      "\n",
      "Preprocessing programs made available by NIST were used to extract\n",
      "normalized bitmaps of handwritten digits from a preprinted form. From a\n",
      "total of 43 people, 30 contributed to the training set and different 13\n",
      "to the test set. 32x32 bitmaps are divided into nonoverlapping blocks of\n",
      "4x4 and the number of on pixels are counted in each block. This generates\n",
      "an input matrix of 8x8 where each element is an integer in the range\n",
      "0..16. This reduces dimensionality and gives invariance to small\n",
      "distortions.\n",
      "\n",
      "For info on NIST preprocessing routines, see M. D. Garris, J. L. Blue, G.\n",
      "T. Candela, D. L. Dimmick, J. Geist, P. J. Grother, S. A. Janet, and C.\n",
      "L. Wilson, NIST Form-Based Handprint Recognition System, NISTIR 5469,\n",
      "1994.\n",
      "\n",
      ".. topic:: References\n",
      "\n",
      "  - C. Kaynak (1995) Methods of Combining Multiple Classifiers and Their\n",
      "    Applications to Handwritten Digit Recognition, MSc Thesis, Institute of\n",
      "    Graduate Studies in Science and Engineering, Bogazici University.\n",
      "  - E. Alpaydin, C. Kaynak (1998) Cascading Classifiers, Kybernetika.\n",
      "  - Ken Tang and Ponnuthurai N. Suganthan and Xi Yao and A. Kai Qin.\n",
      "    Linear dimensionalityreduction using relevance weighted LDA. School of\n",
      "    Electrical and Electronic Engineering Nanyang Technological University.\n",
      "    2005.\n",
      "  - Claudio Gentile. A New Approximate Maximal Margin Classification\n",
      "    Algorithm. NIPS. 2000.\n",
      "\n"
     ]
    }
   ],
   "source": [
    "from sklearn.datasets import load_digits\n",
    "digits = load_digits()\n",
    "print(digits[\"DESCR\"])"
   ]
  },
  {
   "cell_type": "code",
   "execution_count": 4,
   "id": "8e21e686-3777-4311-b5a4-c3c3a001a64a",
   "metadata": {},
   "outputs": [],
   "source": [
    "data_train = digits[\"data\"]\n",
    "labels_train = digits[\"target\"]"
   ]
  },
  {
   "cell_type": "code",
   "execution_count": 5,
   "id": "f5ecb4b7-e228-47c1-b0ab-98bbc9ee2617",
   "metadata": {},
   "outputs": [
    {
     "data": {
      "text/plain": [
       "GridSearchCV(cv=5, estimator=SVC(),\n",
       "             param_grid=[{'C': [0.01, 0.1, 1, 10, 100, 1000],\n",
       "                          'gamma': [0.1, 0.01, 0.001, 0.0001, 1e-05],\n",
       "                          'kernel': ['rbf']}])"
      ]
     },
     "execution_count": 5,
     "metadata": {},
     "output_type": "execute_result"
    }
   ],
   "source": [
    "from sklearn.svm import SVC\n",
    "\n",
    "from sklearn.model_selection import GridSearchCV\n",
    "\n",
    "C = [0.01, 0.1, 1, 10, 100, 1000]\n",
    "gamma = [0.1, 0.01, 0.001, 0.0001, 0.00001]\n",
    "\n",
    "param_grid = [{'C': C, 'gamma': gamma, 'kernel': ['rbf']}]\n",
    "gridsearch = GridSearchCV(cv = 5, estimator = SVC(), param_grid=param_grid)\n",
    "gridsearch.fit (data_train, labels_train)"
   ]
  },
  {
   "cell_type": "code",
   "execution_count": 6,
   "id": "671438bf-17d4-4d31-b7ad-ea88ebb84cf7",
   "metadata": {},
   "outputs": [
    {
     "data": {
      "text/plain": [
       "{'mean_fit_time': array([0.24010954, 0.24139771, 0.23325124, 0.23391199, 0.23206735,\n",
       "        0.24914527, 0.23888378, 0.12364392, 0.17500052, 0.23130822,\n",
       "        0.26448355, 0.26897883, 0.06922426, 0.05892339, 0.16071444,\n",
       "        0.27872815, 0.26970363, 0.07012248, 0.03645129, 0.05598102,\n",
       "        0.27939105, 0.26867504, 0.0688602 , 0.03393397, 0.03331599,\n",
       "        0.27853379, 0.26824937, 0.06868491, 0.03352718, 0.03296199]),\n",
       " 'std_fit_time': array([0.00546976, 0.0055099 , 0.00257784, 0.00399317, 0.00121279,\n",
       "        0.00079464, 0.00774919, 0.00180697, 0.00177555, 0.00036296,\n",
       "        0.00057968, 0.00086301, 0.00092156, 0.00116188, 0.00171726,\n",
       "        0.00134573, 0.00124913, 0.00168996, 0.00261485, 0.00137123,\n",
       "        0.00260909, 0.00046639, 0.00110023, 0.00100018, 0.00079981,\n",
       "        0.00236847, 0.00079565, 0.00114428, 0.00080802, 0.00106758]),\n",
       " 'mean_score_time': array([0.1172183 , 0.11807947, 0.11772289, 0.11892953, 0.11581697,\n",
       "        0.11656322, 0.11914587, 0.08874288, 0.11809545, 0.12100406,\n",
       "        0.11943321, 0.1149868 , 0.05595827, 0.06835823, 0.11354675,\n",
       "        0.11622462, 0.11495595, 0.0568047 , 0.04049129, 0.06840253,\n",
       "        0.11669712, 0.11497416, 0.05524454, 0.03610058, 0.03600874,\n",
       "        0.11617641, 0.11504889, 0.05531988, 0.03616447, 0.03187618]),\n",
       " 'std_score_time': array([0.00326238, 0.00187191, 0.00274534, 0.00245643, 0.00028771,\n",
       "        0.00113366, 0.00407537, 0.00250611, 0.0035229 , 0.00016544,\n",
       "        0.00210158, 0.00015999, 0.00091584, 0.00119421, 0.00056112,\n",
       "        0.00016256, 0.00055667, 0.00169885, 0.00236612, 0.00160595,\n",
       "        0.00205234, 0.00052361, 0.0008585 , 0.00101947, 0.00143065,\n",
       "        0.00062304, 0.0001367 , 0.00086625, 0.00089859, 0.00121649]),\n",
       " 'param_C': masked_array(data=[0.01, 0.01, 0.01, 0.01, 0.01, 0.1, 0.1, 0.1, 0.1, 0.1,\n",
       "                    1, 1, 1, 1, 1, 10, 10, 10, 10, 10, 100, 100, 100, 100,\n",
       "                    100, 1000, 1000, 1000, 1000, 1000],\n",
       "              mask=[False, False, False, False, False, False, False, False,\n",
       "                    False, False, False, False, False, False, False, False,\n",
       "                    False, False, False, False, False, False, False, False,\n",
       "                    False, False, False, False, False, False],\n",
       "        fill_value='?',\n",
       "             dtype=object),\n",
       " 'param_gamma': masked_array(data=[0.1, 0.01, 0.001, 0.0001, 1e-05, 0.1, 0.01, 0.001,\n",
       "                    0.0001, 1e-05, 0.1, 0.01, 0.001, 0.0001, 1e-05, 0.1,\n",
       "                    0.01, 0.001, 0.0001, 1e-05, 0.1, 0.01, 0.001, 0.0001,\n",
       "                    1e-05, 0.1, 0.01, 0.001, 0.0001, 1e-05],\n",
       "              mask=[False, False, False, False, False, False, False, False,\n",
       "                    False, False, False, False, False, False, False, False,\n",
       "                    False, False, False, False, False, False, False, False,\n",
       "                    False, False, False, False, False, False],\n",
       "        fill_value='?',\n",
       "             dtype=object),\n",
       " 'param_kernel': masked_array(data=['rbf', 'rbf', 'rbf', 'rbf', 'rbf', 'rbf', 'rbf', 'rbf',\n",
       "                    'rbf', 'rbf', 'rbf', 'rbf', 'rbf', 'rbf', 'rbf', 'rbf',\n",
       "                    'rbf', 'rbf', 'rbf', 'rbf', 'rbf', 'rbf', 'rbf', 'rbf',\n",
       "                    'rbf', 'rbf', 'rbf', 'rbf', 'rbf', 'rbf'],\n",
       "              mask=[False, False, False, False, False, False, False, False,\n",
       "                    False, False, False, False, False, False, False, False,\n",
       "                    False, False, False, False, False, False, False, False,\n",
       "                    False, False, False, False, False, False],\n",
       "        fill_value='?',\n",
       "             dtype=object),\n",
       " 'params': [{'C': 0.01, 'gamma': 0.1, 'kernel': 'rbf'},\n",
       "  {'C': 0.01, 'gamma': 0.01, 'kernel': 'rbf'},\n",
       "  {'C': 0.01, 'gamma': 0.001, 'kernel': 'rbf'},\n",
       "  {'C': 0.01, 'gamma': 0.0001, 'kernel': 'rbf'},\n",
       "  {'C': 0.01, 'gamma': 1e-05, 'kernel': 'rbf'},\n",
       "  {'C': 0.1, 'gamma': 0.1, 'kernel': 'rbf'},\n",
       "  {'C': 0.1, 'gamma': 0.01, 'kernel': 'rbf'},\n",
       "  {'C': 0.1, 'gamma': 0.001, 'kernel': 'rbf'},\n",
       "  {'C': 0.1, 'gamma': 0.0001, 'kernel': 'rbf'},\n",
       "  {'C': 0.1, 'gamma': 1e-05, 'kernel': 'rbf'},\n",
       "  {'C': 1, 'gamma': 0.1, 'kernel': 'rbf'},\n",
       "  {'C': 1, 'gamma': 0.01, 'kernel': 'rbf'},\n",
       "  {'C': 1, 'gamma': 0.001, 'kernel': 'rbf'},\n",
       "  {'C': 1, 'gamma': 0.0001, 'kernel': 'rbf'},\n",
       "  {'C': 1, 'gamma': 1e-05, 'kernel': 'rbf'},\n",
       "  {'C': 10, 'gamma': 0.1, 'kernel': 'rbf'},\n",
       "  {'C': 10, 'gamma': 0.01, 'kernel': 'rbf'},\n",
       "  {'C': 10, 'gamma': 0.001, 'kernel': 'rbf'},\n",
       "  {'C': 10, 'gamma': 0.0001, 'kernel': 'rbf'},\n",
       "  {'C': 10, 'gamma': 1e-05, 'kernel': 'rbf'},\n",
       "  {'C': 100, 'gamma': 0.1, 'kernel': 'rbf'},\n",
       "  {'C': 100, 'gamma': 0.01, 'kernel': 'rbf'},\n",
       "  {'C': 100, 'gamma': 0.001, 'kernel': 'rbf'},\n",
       "  {'C': 100, 'gamma': 0.0001, 'kernel': 'rbf'},\n",
       "  {'C': 100, 'gamma': 1e-05, 'kernel': 'rbf'},\n",
       "  {'C': 1000, 'gamma': 0.1, 'kernel': 'rbf'},\n",
       "  {'C': 1000, 'gamma': 0.01, 'kernel': 'rbf'},\n",
       "  {'C': 1000, 'gamma': 0.001, 'kernel': 'rbf'},\n",
       "  {'C': 1000, 'gamma': 0.0001, 'kernel': 'rbf'},\n",
       "  {'C': 1000, 'gamma': 1e-05, 'kernel': 'rbf'}],\n",
       " 'split0_test_score': array([0.1       , 0.1       , 0.11111111, 0.1       , 0.1       ,\n",
       "        0.1       , 0.1       , 0.94166667, 0.87777778, 0.1       ,\n",
       "        0.1       , 0.675     , 0.975     , 0.93611111, 0.88888889,\n",
       "        0.1       , 0.69722222, 0.97777778, 0.97222222, 0.93333333,\n",
       "        0.1       , 0.69722222, 0.97777778, 0.975     , 0.96111111,\n",
       "        0.1       , 0.69722222, 0.97777778, 0.975     , 0.96388889]),\n",
       " 'split1_test_score': array([0.1       , 0.1       , 0.12777778, 0.1       , 0.1       ,\n",
       "        0.1       , 0.1       , 0.92222222, 0.85277778, 0.1       ,\n",
       "        0.1       , 0.60555556, 0.95      , 0.93333333, 0.85277778,\n",
       "        0.1       , 0.61944444, 0.95      , 0.93055556, 0.93333333,\n",
       "        0.1       , 0.61944444, 0.95      , 0.93888889, 0.92777778,\n",
       "        0.1       , 0.61944444, 0.95      , 0.93888889, 0.91944444]),\n",
       " 'split2_test_score': array([0.10306407, 0.11420613, 0.20891365, 0.20334262, 0.20334262,\n",
       "        0.10306407, 0.11420613, 0.96100279, 0.8913649 , 0.20334262,\n",
       "        0.10584958, 0.71030641, 0.98328691, 0.96935933, 0.8913649 ,\n",
       "        0.10584958, 0.71866295, 0.98328691, 0.97771588, 0.96657382,\n",
       "        0.10584958, 0.71866295, 0.98328691, 0.96657382, 0.97771588,\n",
       "        0.10584958, 0.71866295, 0.98328691, 0.96657382, 0.9637883 ]),\n",
       " 'split3_test_score': array([0.10306407, 0.1281337 , 0.2005571 , 0.19777159, 0.19777159,\n",
       "        0.10306407, 0.1281337 , 0.97493036, 0.93036212, 0.19777159,\n",
       "        0.10306407, 0.75208914, 0.99164345, 0.98050139, 0.93871866,\n",
       "        0.10306407, 0.75766017, 0.98607242, 0.98607242, 0.98050139,\n",
       "        0.10306407, 0.75766017, 0.98607242, 0.98328691, 0.97493036,\n",
       "        0.10306407, 0.75766017, 0.98607242, 0.98328691, 0.96657382]),\n",
       " 'split4_test_score': array([0.10306407, 0.14763231, 0.21727019, 0.18941504, 0.18941504,\n",
       "        0.10306407, 0.14763231, 0.91643454, 0.84958217, 0.18941504,\n",
       "        0.10584958, 0.73537604, 0.96100279, 0.91643454, 0.8551532 ,\n",
       "        0.10306407, 0.74094708, 0.9637883 , 0.93314763, 0.91364903,\n",
       "        0.10306407, 0.74094708, 0.9637883 , 0.94707521, 0.93871866,\n",
       "        0.10306407, 0.74094708, 0.9637883 , 0.94707521, 0.93036212]),\n",
       " 'mean_test_score': array([0.10183844, 0.11799443, 0.17312597, 0.15810585, 0.15810585,\n",
       "        0.10183844, 0.11799443, 0.94325132, 0.88037295, 0.15810585,\n",
       "        0.10295265, 0.69566543, 0.97218663, 0.94714794, 0.88538069,\n",
       "        0.10239554, 0.70678737, 0.97218508, 0.95994274, 0.94547818,\n",
       "        0.10239554, 0.70678737, 0.97218508, 0.96216496, 0.95605076,\n",
       "        0.10239554, 0.70678737, 0.97218508, 0.96216496, 0.94881151]),\n",
       " 'std_test_score': array([0.00150108, 0.01812821, 0.04446176, 0.04764993, 0.04764993,\n",
       "        0.00150108, 0.01812821, 0.0222825 , 0.0294484 , 0.04764993,\n",
       "        0.00261661, 0.05200341, 0.01501349, 0.02392391, 0.03120804,\n",
       "        0.00220461, 0.04820007, 0.01349126, 0.02337099, 0.02441205,\n",
       "        0.00220461, 0.04820007, 0.01349126, 0.01673194, 0.01975443,\n",
       "        0.00220461, 0.04820007, 0.01349126, 0.01673194, 0.01984911]),\n",
       " 'rank_test_score': array([29, 23, 19, 20, 20, 29, 23, 12, 14, 20, 25, 18,  1, 10, 13, 26, 15,\n",
       "         2,  7, 11, 26, 15,  2,  5,  8, 26, 15,  2,  5,  9], dtype=int32)}"
      ]
     },
     "execution_count": 6,
     "metadata": {},
     "output_type": "execute_result"
    }
   ],
   "source": [
    "gridsearch.cv_results_"
   ]
  },
  {
   "cell_type": "code",
   "execution_count": 7,
   "id": "368de603-88e2-48b1-a406-ba822c83002f",
   "metadata": {},
   "outputs": [
    {
     "name": "stdout",
     "output_type": "stream",
     "text": [
      "[[0.10183844 0.11799443 0.17312597 0.15810585 0.15810585]\n",
      " [0.10183844 0.11799443 0.94325132 0.88037295 0.15810585]\n",
      " [0.10295265 0.69566543 0.97218663 0.94714794 0.88538069]\n",
      " [0.10239554 0.70678737 0.97218508 0.95994274 0.94547818]\n",
      " [0.10239554 0.70678737 0.97218508 0.96216496 0.95605076]\n",
      " [0.10239554 0.70678737 0.97218508 0.96216496 0.94881151]]\n",
      "[[0.00150108 0.01812821 0.04446176 0.04764993 0.04764993]\n",
      " [0.00150108 0.01812821 0.0222825  0.0294484  0.04764993]\n",
      " [0.00261661 0.05200341 0.01501349 0.02392391 0.03120804]\n",
      " [0.00220461 0.04820007 0.01349126 0.02337099 0.02441205]\n",
      " [0.00220461 0.04820007 0.01349126 0.01673194 0.01975443]\n",
      " [0.00220461 0.04820007 0.01349126 0.01673194 0.01984911]]\n"
     ]
    }
   ],
   "source": [
    "mean_score = gridsearch.cv_results_ [\"mean_test_score\"].reshape(len(C), len(gamma))\n",
    "print(mean_score)\n",
    "std_score = gridsearch.cv_results_ [\"std_test_score\"].reshape(len(C), len(gamma))\n",
    "print(std_score)"
   ]
  },
  {
   "cell_type": "code",
   "execution_count": 8,
   "id": "11e7e267-96ee-4938-aba0-eb9dd27b5b96",
   "metadata": {},
   "outputs": [
    {
     "data": {
      "text/plain": [
       "<matplotlib.image.AxesImage at 0x7f83e9ad4a00>"
      ]
     },
     "execution_count": 8,
     "metadata": {},
     "output_type": "execute_result"
    },
    {
     "data": {
      "image/png": "[encoded data removed]",
      "text/plain": [
       "<Figure size 288x345.6 with 1 Axes>"
      ]
     },
     "metadata": {
      "needs_background": "light"
     },
     "output_type": "display_data"
    },
    {
     "data": {
      "image/png": "[encoded data removed]",
      "text/plain": [
       "<Figure size 288x345.6 with 1 Axes>"
      ]
     },
     "metadata": {
      "needs_background": "light"
     },
     "output_type": "display_data"
    }
   ],
   "source": [
    "import matplotlib.pyplot as plt\n",
    "\n",
    "mean_plot = plt.matshow (mean_score)\n",
    "plt.matshow (std_score)"
   ]
  },
  {
   "cell_type": "code",
   "execution_count": 9,
   "id": "76ca1f18-338d-4322-b685-ba3c6307dffe",
   "metadata": {},
   "outputs": [],
   "source": [
    "import numpy as np\n",
    "def true_fun(X):\n",
    "    return np.cos (1.5*np.pi*X)\n",
    "\n",
    "X_finegrid = np.linspace(0,1,100)"
   ]
  },
  {
   "cell_type": "code",
   "execution_count": 10,
   "id": "3dec09a2-efab-40f2-bf53-327b6ad4c166",
   "metadata": {},
   "outputs": [],
   "source": [
    "np.random.seed(0)\n",
    "n_samples = 30\n",
    "\n",
    "X = np.sort(np.random.rand(n_samples))\n",
    "y = true_fun(X) + np.random.randn(n_samples) * 0.1\n",
    "\n",
    "X_test = np.sort(np.random.rand(n_samples))\n",
    "y_test = true_fun(X_test) + np.random.randn(n_samples) * 0.1"
   ]
  },
  {
   "cell_type": "code",
   "execution_count": 11,
   "id": "1284a1e5-338b-41d6-9393-67f03bd03cdd",
   "metadata": {},
   "outputs": [
    {
     "data": {
      "text/plain": [
       "[<matplotlib.lines.Line2D at 0x7f83d897c910>]"
      ]
     },
     "execution_count": 11,
     "metadata": {},
     "output_type": "execute_result"
    },
    {
     "data": {
      "image/png": "[encoded data removed]",
      "text/plain": [
       "<Figure size 432x288 with 1 Axes>"
      ]
     },
     "metadata": {
      "needs_background": "light"
     },
     "output_type": "display_data"
    }
   ],
   "source": [
    "plt.scatter(X, y)\n",
    "plt.scatter(X_test, y_test, color = 'r')\n",
    "plt.plot(X_finegrid, true_fun(X_finegrid))"
   ]
  },
  {
   "cell_type": "code",
   "execution_count": 12,
   "id": "02e3216b-b207-4c91-ab4a-a2fd8a564112",
   "metadata": {},
   "outputs": [
    {
     "data": {
      "text/plain": [
       "(-1.5, 2.0)"
      ]
     },
     "execution_count": 12,
     "metadata": {},
     "output_type": "execute_result"
    },
    {
     "data": {
      "image/png": "[encoded data removed]",
      "text/plain": [
       "<Figure size 432x288 with 1 Axes>"
      ]
     },
     "metadata": {
      "needs_background": "light"
     },
     "output_type": "display_data"
    }
   ],
   "source": [
    "from sklearn.pipeline import Pipeline\n",
    "from sklearn.preprocessing import PolynomialFeatures\n",
    "from sklearn.linear_model import LinearRegression\n",
    "from sklearn.metrics import mean_squared_error\n",
    "from math import sqrt\n",
    "\n",
    "\n",
    "polynomial_features = PolynomialFeatures(degree = 14, include_bias = False) \n",
    "\n",
    "pipeline = Pipeline ([(\"polynomial features\", polynomial_features),\n",
    "                      (\"linear regression\", LinearRegression())])\n",
    "\n",
    "pipeline.fit (X [:, np.newaxis], y)\n",
    "\n",
    "y_pred = pipeline.predict(X_test[:, np.newaxis])\n",
    "\n",
    "plt.scatter(X, y)\n",
    "plt.scatter(X_test, y_test, color = 'r')\n",
    "plt.plot(X_finegrid, true_fun(X_finegrid))\n",
    "plt.scatter(X_test, y_pred, color = \"orange\")\n",
    "plt.plot(X_finegrid, pipeline.predict(X_finegrid[:, np.newaxis]), color = \"orange\")\n",
    "\n",
    "sqrt(mean_squared_error(y_test, y_pred))\n",
    "plt.ylim(-1.5,2)"
   ]
  },
  {
   "cell_type": "code",
   "execution_count": null,
   "id": "48d23b70-e934-4f58-9d71-526873816960",
   "metadata": {},
   "outputs": [],
   "source": []
  }
 ],
 "metadata": {
  "kernelspec": {
   "display_name": "Python 3",
   "language": "python",
   "name": "python3"
  },
  "language_info": {
   "codemirror_mode": {
    "name": "ipython",
    "version": 3
   },
   "file_extension": ".py",
   "mimetype": "text/x-python",
   "name": "python",
   "nbconvert_exporter": "python",
   "pygments_lexer": "ipython3",
   "version": "3.8.8"
  }
 },
 "nbformat": 4,
 "nbformat_minor": 5
}
